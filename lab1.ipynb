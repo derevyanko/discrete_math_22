{
 "cells": [
  {
   "cell_type": "code",
   "execution_count": 1,
   "id": "abe0779d",
   "metadata": {},
   "outputs": [],
   "source": [
    "from __future__ import annotations\n",
    "import numpy as np"
   ]
  },
  {
   "cell_type": "code",
   "execution_count": 2,
   "id": "35a4496e",
   "metadata": {},
   "outputs": [],
   "source": [
    "def readGraph() -> np.ndarray[[int]]:\n",
    "    verticesNumber = int(input())\n",
    "    graph = np.array(\n",
    "        [np.array(list(map(int, input().split())), dtype=object) for row in range(verticesNumber)], \n",
    "        dtype=object\n",
    "    )\n",
    "    return graph"
   ]
  },
  {
   "cell_type": "code",
   "execution_count": 3,
   "id": "8b031097",
   "metadata": {},
   "outputs": [
    {
     "name": "stdout",
     "output_type": "stream",
     "text": [
      "6\n",
      "0 1 0 0 0 1\n",
      "0 0 0 0 0 0\n",
      "0 0 1 0 0 0\n",
      "0 0 0 0 1 0\n",
      "1 0 0 0 0 0\n",
      "0 0 0 0 0 0\n",
      "6\n",
      "0 1 0 0 0 0\n",
      "0 0 1 0 0 0\n",
      "0 0 0 1 1 0\n",
      "0 0 0 0 0 0\n",
      "0 0 0 0 0 0\n",
      "0 0 0 0 0 1\n"
     ]
    }
   ],
   "source": [
    "firstGraph = readGraph()\n",
    "secondGraph = readGraph()\n",
    "\n",
    "if firstGraph.shape != secondGraph.shape:\n",
    "    print(\"Not isomorphic\")\n",
    "    exit(0)\n",
    "\n",
    "verticesNumber = firstGraph.shape[0]\n",
    "P = list(range(0, verticesNumber))"
   ]
  },
  {
   "cell_type": "code",
   "execution_count": 4,
   "id": "a598501e",
   "metadata": {},
   "outputs": [],
   "source": [
    "def next_permutation(a) -> bool:\n",
    "    for i in reversed(range(len(a) - 1)):\n",
    "        if a[i] < a[i + 1]:\n",
    "            break\n",
    "    else:\n",
    "        return False\n",
    "\n",
    "    j = next(j for j in reversed(range(i + 1, len(a))) if a[i] < a[j])\n",
    "    a[i], a[j] = a[j], a[i]\n",
    "    a[i + 1:] = reversed(a[i + 1:])\n",
    "    \n",
    "    return True"
   ]
  },
  {
   "cell_type": "code",
   "execution_count": 5,
   "id": "79034e21",
   "metadata": {},
   "outputs": [],
   "source": [
    "def isMatched(a: np.ndarray[[int]], b: np.ndarray[[int]]) -> bool:\n",
    "    for i in range(verticesNumber):\n",
    "        for j in range(verticesNumber):\n",
    "            if a[i][j] != b[P[i]][P[j]]:\n",
    "                return False\n",
    "    return True"
   ]
  },
  {
   "cell_type": "code",
   "execution_count": 6,
   "id": "5b81d3de",
   "metadata": {},
   "outputs": [],
   "source": [
    "def isIsomorphic(a: np.ndarray[[int]], b: np.ndarray[[int]]) -> bool:\n",
    "    isNextPermutation = True\n",
    "    \n",
    "    while isNextPermutation:\n",
    "        if isMatched(a, b):\n",
    "            return True\n",
    "        \n",
    "        isNextPermutation = next_permutation(P)\n",
    "        \n",
    "    return False"
   ]
  },
  {
   "cell_type": "code",
   "execution_count": 7,
   "id": "1141fb68",
   "metadata": {},
   "outputs": [
    {
     "data": {
      "text/plain": [
       "True"
      ]
     },
     "execution_count": 7,
     "metadata": {},
     "output_type": "execute_result"
    }
   ],
   "source": [
    "isIsomorphic(firstGraph, secondGraph)"
   ]
  },
  {
   "cell_type": "code",
   "execution_count": null,
   "id": "35ca9d3a",
   "metadata": {},
   "outputs": [],
   "source": []
  }
 ],
 "metadata": {
  "kernelspec": {
   "display_name": "Python 3 (ipykernel)",
   "language": "python",
   "name": "python3"
  },
  "language_info": {
   "codemirror_mode": {
    "name": "ipython",
    "version": 3
   },
   "file_extension": ".py",
   "mimetype": "text/x-python",
   "name": "python",
   "nbconvert_exporter": "python",
   "pygments_lexer": "ipython3",
   "version": "3.9.9"
  }
 },
 "nbformat": 4,
 "nbformat_minor": 5
}
